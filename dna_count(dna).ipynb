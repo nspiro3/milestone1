{
 "cells": [
  {
   "cell_type": "code",
   "execution_count": null,
   "id": "773ac2d9",
   "metadata": {},
   "outputs": [],
   "source": [
    "def dna_count(dna):\n",
    "    dna = dna.upper()\n",
    "    count_A = dna.count('A')\n",
    "    count_C = dna.count('C')\n",
    "    count_G = dna.count('G')\n",
    "    count_T = dna.count('T')\n",
    "    return count_A,count_C,count_G,count_T\n",
    "count = dna_count(\"\")\n",
    "nucleotides= ('A','C','G','T')\n",
    "dictionary = dict(zip(nucleotides,count))\n",
    "print(dictionary)"
   ]
  }
 ],
 "metadata": {
  "kernelspec": {
   "display_name": "Python 3 (ipykernel)",
   "language": "python",
   "name": "python3"
  },
  "language_info": {
   "codemirror_mode": {
    "name": "ipython",
    "version": 3
   },
   "file_extension": ".py",
   "mimetype": "text/x-python",
   "name": "python",
   "nbconvert_exporter": "python",
   "pygments_lexer": "ipython3",
   "version": "3.9.12"
  }
 },
 "nbformat": 4,
 "nbformat_minor": 5
}
