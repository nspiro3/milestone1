{
 "cells": [
  {
   "cell_type": "code",
   "execution_count": null,
   "id": "1d1cf69f",
   "metadata": {},
   "outputs": [],
   "source": [
    "def fibonacci_rabbits(n,k):\n",
    "    if n==1 or n==2:\n",
    "        return 1\n",
    "    elif n > 2:\n",
    "        return fibonacci_rabbits(n-1,k)+k*fibonacci_rabbits(n-2,k)           \n",
    "print(fibonacci_rabbits(4,3))"
   ]
  }
 ],
 "metadata": {
  "kernelspec": {
   "display_name": "Python 3 (ipykernel)",
   "language": "python",
   "name": "python3"
  },
  "language_info": {
   "codemirror_mode": {
    "name": "ipython",
    "version": 3
   },
   "file_extension": ".py",
   "mimetype": "text/x-python",
   "name": "python",
   "nbconvert_exporter": "python",
   "pygments_lexer": "ipython3",
   "version": "3.9.12"
  }
 },
 "nbformat": 4,
 "nbformat_minor": 5
}
